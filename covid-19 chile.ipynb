{
 "nbformat": 4,
 "nbformat_minor": 2,
 "metadata": {
  "language_info": {
   "name": "python",
   "codemirror_mode": {
    "name": "ipython",
    "version": 3
   },
   "version": "3.7.5-final"
  },
  "orig_nbformat": 2,
  "file_extension": ".py",
  "mimetype": "text/x-python",
  "name": "python",
  "npconvert_exporter": "python",
  "pygments_lexer": "ipython3",
  "version": 3,
  "kernelspec": {
   "name": "python37564bitvenvvenv3684e721ef77482abd022f282d10d83e",
   "display_name": "Python 3.7.5 64-bit ('venv': venv)"
  }
 },
 "cells": [
  {
   "cell_type": "code",
   "execution_count": 5,
   "metadata": {},
   "outputs": [],
   "source": [
    "import pandas as pd"
   ]
  },
  {
   "cell_type": "code",
   "execution_count": 6,
   "metadata": {},
   "outputs": [],
   "source": [
    "data = pd.read_html('https://www.minsal.cl/nuevo-coronavirus-2019-ncov/casos-confirmados-en-chile-covid-19/')"
   ]
  },
  {
   "cell_type": "code",
   "execution_count": 7,
   "metadata": {},
   "outputs": [
    {
     "output_type": "execute_result",
     "data": {
      "text/plain": "                     0                                   1  \\\n0                  NaN             Casos COVID-19 en Chile   \n1                  NaN  Casos confirmados por laboratorio*   \n2               Región                        Casos nuevos   \n3   Arica y Parinacota                                   1   \n4             Tarapacá                                   1   \n5          Antofagasta                                   1   \n6              Atacama                                   0   \n7             Coquimbo                                   1   \n8           Valparaíso                                  12   \n9        Metropolitana                                  64   \n10           O’Higgins                                   3   \n11               Maule                                   1   \n12               Ñuble                                   3   \n13              Biobío                                  14   \n14           Araucanía                                  37   \n15            Los Ríos                                   3   \n16           Los Lagos                                  16   \n17               Aysén                                   1   \n18          Magallanes                                   6   \n19               Total                                 164   \n\n                                     2                                   3  \\\n0              Casos COVID-19 en Chile             Casos COVID-19 en Chile   \n1   Casos confirmados por laboratorio*  Casos confirmados por laboratorio*   \n2                        Casos totales                   % Casos totales**   \n3                                    3                                 0 %   \n4                                    5                                 0 %   \n5                                   20                                 2 %   \n6                                    1                                 0 %   \n7                                   13                                 1 %   \n8                                   44                                 3 %   \n9                                  746                                57 %   \n10                                  14                                 1 %   \n11                                  31                                 2 %   \n12                                 114                                 9 %   \n13                                 109                                 8 %   \n14                                 111                                 8 %   \n15                                  14                                 1 %   \n16                                  60                                 5 %   \n17                                   2                                 0 %   \n18                                  19                                 1 %   \n19                               1.306                                100%   \n\n                                     4  \n0              Casos COVID-19 en Chile  \n1   Casos confirmados por laboratorio*  \n2                           Fallecidos  \n3                                    0  \n4                                    0  \n5                                    0  \n6                                    0  \n7                                    0  \n8                                    0  \n9                                    3  \n10                                   0  \n11                                   0  \n12                                   0  \n13                                   1  \n14                                   0  \n15                                   0  \n16                                   0  \n17                                   0  \n18                                   0  \n19                                   4  ",
      "text/html": "<div>\n<style scoped>\n    .dataframe tbody tr th:only-of-type {\n        vertical-align: middle;\n    }\n\n    .dataframe tbody tr th {\n        vertical-align: top;\n    }\n\n    .dataframe thead th {\n        text-align: right;\n    }\n</style>\n<table border=\"1\" class=\"dataframe\">\n  <thead>\n    <tr style=\"text-align: right;\">\n      <th></th>\n      <th>0</th>\n      <th>1</th>\n      <th>2</th>\n      <th>3</th>\n      <th>4</th>\n    </tr>\n  </thead>\n  <tbody>\n    <tr>\n      <th>0</th>\n      <td>NaN</td>\n      <td>Casos COVID-19 en Chile</td>\n      <td>Casos COVID-19 en Chile</td>\n      <td>Casos COVID-19 en Chile</td>\n      <td>Casos COVID-19 en Chile</td>\n    </tr>\n    <tr>\n      <th>1</th>\n      <td>NaN</td>\n      <td>Casos confirmados por laboratorio*</td>\n      <td>Casos confirmados por laboratorio*</td>\n      <td>Casos confirmados por laboratorio*</td>\n      <td>Casos confirmados por laboratorio*</td>\n    </tr>\n    <tr>\n      <th>2</th>\n      <td>Región</td>\n      <td>Casos nuevos</td>\n      <td>Casos totales</td>\n      <td>% Casos totales**</td>\n      <td>Fallecidos</td>\n    </tr>\n    <tr>\n      <th>3</th>\n      <td>Arica y Parinacota</td>\n      <td>1</td>\n      <td>3</td>\n      <td>0 %</td>\n      <td>0</td>\n    </tr>\n    <tr>\n      <th>4</th>\n      <td>Tarapacá</td>\n      <td>1</td>\n      <td>5</td>\n      <td>0 %</td>\n      <td>0</td>\n    </tr>\n    <tr>\n      <th>5</th>\n      <td>Antofagasta</td>\n      <td>1</td>\n      <td>20</td>\n      <td>2 %</td>\n      <td>0</td>\n    </tr>\n    <tr>\n      <th>6</th>\n      <td>Atacama</td>\n      <td>0</td>\n      <td>1</td>\n      <td>0 %</td>\n      <td>0</td>\n    </tr>\n    <tr>\n      <th>7</th>\n      <td>Coquimbo</td>\n      <td>1</td>\n      <td>13</td>\n      <td>1 %</td>\n      <td>0</td>\n    </tr>\n    <tr>\n      <th>8</th>\n      <td>Valparaíso</td>\n      <td>12</td>\n      <td>44</td>\n      <td>3 %</td>\n      <td>0</td>\n    </tr>\n    <tr>\n      <th>9</th>\n      <td>Metropolitana</td>\n      <td>64</td>\n      <td>746</td>\n      <td>57 %</td>\n      <td>3</td>\n    </tr>\n    <tr>\n      <th>10</th>\n      <td>O’Higgins</td>\n      <td>3</td>\n      <td>14</td>\n      <td>1 %</td>\n      <td>0</td>\n    </tr>\n    <tr>\n      <th>11</th>\n      <td>Maule</td>\n      <td>1</td>\n      <td>31</td>\n      <td>2 %</td>\n      <td>0</td>\n    </tr>\n    <tr>\n      <th>12</th>\n      <td>Ñuble</td>\n      <td>3</td>\n      <td>114</td>\n      <td>9 %</td>\n      <td>0</td>\n    </tr>\n    <tr>\n      <th>13</th>\n      <td>Biobío</td>\n      <td>14</td>\n      <td>109</td>\n      <td>8 %</td>\n      <td>1</td>\n    </tr>\n    <tr>\n      <th>14</th>\n      <td>Araucanía</td>\n      <td>37</td>\n      <td>111</td>\n      <td>8 %</td>\n      <td>0</td>\n    </tr>\n    <tr>\n      <th>15</th>\n      <td>Los Ríos</td>\n      <td>3</td>\n      <td>14</td>\n      <td>1 %</td>\n      <td>0</td>\n    </tr>\n    <tr>\n      <th>16</th>\n      <td>Los Lagos</td>\n      <td>16</td>\n      <td>60</td>\n      <td>5 %</td>\n      <td>0</td>\n    </tr>\n    <tr>\n      <th>17</th>\n      <td>Aysén</td>\n      <td>1</td>\n      <td>2</td>\n      <td>0 %</td>\n      <td>0</td>\n    </tr>\n    <tr>\n      <th>18</th>\n      <td>Magallanes</td>\n      <td>6</td>\n      <td>19</td>\n      <td>1 %</td>\n      <td>0</td>\n    </tr>\n    <tr>\n      <th>19</th>\n      <td>Total</td>\n      <td>164</td>\n      <td>1.306</td>\n      <td>100%</td>\n      <td>4</td>\n    </tr>\n  </tbody>\n</table>\n</div>"
     },
     "metadata": {},
     "execution_count": 7
    }
   ],
   "source": [
    "data[0]"
   ]
  },
  {
   "cell_type": "code",
   "execution_count": 8,
   "metadata": {},
   "outputs": [
    {
     "output_type": "execute_result",
     "data": {
      "text/plain": "array(['Región', 'Casos nuevos', 'Casos totales', '% Casos totales**',\n       'Fallecidos'], dtype=object)"
     },
     "metadata": {},
     "execution_count": 8
    }
   ],
   "source": [
    "data[0][2:3].values[0]"
   ]
  },
  {
   "cell_type": "code",
   "execution_count": 9,
   "metadata": {},
   "outputs": [
    {
     "output_type": "execute_result",
     "data": {
      "text/plain": "array([['Arica y Parinacota', '1', '3', '0 %', '0'],\n       ['Tarapacá', '1', '5', '0 %', '0'],\n       ['Antofagasta', '1', '20', '2 %', '0'],\n       ['Atacama', '0', '1', '0 %', '0'],\n       ['Coquimbo', '1', '13', '1 %', '0'],\n       ['Valparaíso', '12', '44', '3 %', '0'],\n       ['Metropolitana', '64', '746', '57 %', '3'],\n       ['O’Higgins', '3', '14', '1 %', '0'],\n       ['Maule', '1', '31', '2 %', '0'],\n       ['Ñuble', '3', '114', '9 %', '0'],\n       ['Biobío', '14', '109', '8 %', '1'],\n       ['Araucanía', '37', '111', '8 %', '0'],\n       ['Los Ríos', '3', '14', '1 %', '0'],\n       ['Los Lagos', '16', '60', '5 %', '0'],\n       ['Aysén', '1', '2', '0 %', '0'],\n       ['Magallanes', '6', '19', '1 %', '0'],\n       ['Total', '164', '1.306', '100%', '4']], dtype=object)"
     },
     "metadata": {},
     "execution_count": 9
    }
   ],
   "source": [
    "data[0][3:].values"
   ]
  },
  {
   "cell_type": "code",
   "execution_count": 10,
   "metadata": {},
   "outputs": [],
   "source": [
    "table = pd.DataFrame(data=data[0][3:].values, columns=data[0][2:3].values[0])"
   ]
  },
  {
   "cell_type": "code",
   "execution_count": 11,
   "metadata": {},
   "outputs": [
    {
     "output_type": "execute_result",
     "data": {
      "text/plain": "                Región Casos nuevos Casos totales % Casos totales** Fallecidos\n0   Arica y Parinacota            1             3               0 %          0\n1             Tarapacá            1             5               0 %          0\n2          Antofagasta            1            20               2 %          0\n3              Atacama            0             1               0 %          0\n4             Coquimbo            1            13               1 %          0\n5           Valparaíso           12            44               3 %          0\n6        Metropolitana           64           746              57 %          3\n7            O’Higgins            3            14               1 %          0\n8                Maule            1            31               2 %          0\n9                Ñuble            3           114               9 %          0\n10              Biobío           14           109               8 %          1\n11           Araucanía           37           111               8 %          0\n12            Los Ríos            3            14               1 %          0\n13           Los Lagos           16            60               5 %          0\n14               Aysén            1             2               0 %          0\n15          Magallanes            6            19               1 %          0\n16               Total          164         1.306              100%          4",
      "text/html": "<div>\n<style scoped>\n    .dataframe tbody tr th:only-of-type {\n        vertical-align: middle;\n    }\n\n    .dataframe tbody tr th {\n        vertical-align: top;\n    }\n\n    .dataframe thead th {\n        text-align: right;\n    }\n</style>\n<table border=\"1\" class=\"dataframe\">\n  <thead>\n    <tr style=\"text-align: right;\">\n      <th></th>\n      <th>Región</th>\n      <th>Casos nuevos</th>\n      <th>Casos totales</th>\n      <th>% Casos totales**</th>\n      <th>Fallecidos</th>\n    </tr>\n  </thead>\n  <tbody>\n    <tr>\n      <th>0</th>\n      <td>Arica y Parinacota</td>\n      <td>1</td>\n      <td>3</td>\n      <td>0 %</td>\n      <td>0</td>\n    </tr>\n    <tr>\n      <th>1</th>\n      <td>Tarapacá</td>\n      <td>1</td>\n      <td>5</td>\n      <td>0 %</td>\n      <td>0</td>\n    </tr>\n    <tr>\n      <th>2</th>\n      <td>Antofagasta</td>\n      <td>1</td>\n      <td>20</td>\n      <td>2 %</td>\n      <td>0</td>\n    </tr>\n    <tr>\n      <th>3</th>\n      <td>Atacama</td>\n      <td>0</td>\n      <td>1</td>\n      <td>0 %</td>\n      <td>0</td>\n    </tr>\n    <tr>\n      <th>4</th>\n      <td>Coquimbo</td>\n      <td>1</td>\n      <td>13</td>\n      <td>1 %</td>\n      <td>0</td>\n    </tr>\n    <tr>\n      <th>5</th>\n      <td>Valparaíso</td>\n      <td>12</td>\n      <td>44</td>\n      <td>3 %</td>\n      <td>0</td>\n    </tr>\n    <tr>\n      <th>6</th>\n      <td>Metropolitana</td>\n      <td>64</td>\n      <td>746</td>\n      <td>57 %</td>\n      <td>3</td>\n    </tr>\n    <tr>\n      <th>7</th>\n      <td>O’Higgins</td>\n      <td>3</td>\n      <td>14</td>\n      <td>1 %</td>\n      <td>0</td>\n    </tr>\n    <tr>\n      <th>8</th>\n      <td>Maule</td>\n      <td>1</td>\n      <td>31</td>\n      <td>2 %</td>\n      <td>0</td>\n    </tr>\n    <tr>\n      <th>9</th>\n      <td>Ñuble</td>\n      <td>3</td>\n      <td>114</td>\n      <td>9 %</td>\n      <td>0</td>\n    </tr>\n    <tr>\n      <th>10</th>\n      <td>Biobío</td>\n      <td>14</td>\n      <td>109</td>\n      <td>8 %</td>\n      <td>1</td>\n    </tr>\n    <tr>\n      <th>11</th>\n      <td>Araucanía</td>\n      <td>37</td>\n      <td>111</td>\n      <td>8 %</td>\n      <td>0</td>\n    </tr>\n    <tr>\n      <th>12</th>\n      <td>Los Ríos</td>\n      <td>3</td>\n      <td>14</td>\n      <td>1 %</td>\n      <td>0</td>\n    </tr>\n    <tr>\n      <th>13</th>\n      <td>Los Lagos</td>\n      <td>16</td>\n      <td>60</td>\n      <td>5 %</td>\n      <td>0</td>\n    </tr>\n    <tr>\n      <th>14</th>\n      <td>Aysén</td>\n      <td>1</td>\n      <td>2</td>\n      <td>0 %</td>\n      <td>0</td>\n    </tr>\n    <tr>\n      <th>15</th>\n      <td>Magallanes</td>\n      <td>6</td>\n      <td>19</td>\n      <td>1 %</td>\n      <td>0</td>\n    </tr>\n    <tr>\n      <th>16</th>\n      <td>Total</td>\n      <td>164</td>\n      <td>1.306</td>\n      <td>100%</td>\n      <td>4</td>\n    </tr>\n  </tbody>\n</table>\n</div>"
     },
     "metadata": {},
     "execution_count": 11
    }
   ],
   "source": [
    "table"
   ]
  },
  {
   "cell_type": "code",
   "execution_count": 12,
   "metadata": {},
   "outputs": [
    {
     "output_type": "execute_result",
     "data": {
      "text/plain": "0     Arica y Parinacota\n1               Tarapacá\n2            Antofagasta\n3                Atacama\n4               Coquimbo\n5             Valparaíso\n6          Metropolitana\n7              O’Higgins\n8                  Maule\n9                  Ñuble\n10                Biobío\n11             Araucanía\n12              Los Ríos\n13             Los Lagos\n14                 Aysén\n15            Magallanes\n16                 Total\nName: Región, dtype: object"
     },
     "metadata": {},
     "execution_count": 12
    }
   ],
   "source": [
    "table['Región']"
   ]
  },
  {
   "cell_type": "code",
   "execution_count": 31,
   "metadata": {},
   "outputs": [
    {
     "output_type": "execute_result",
     "data": {
      "text/plain": "33"
     },
     "metadata": {},
     "execution_count": 31
    }
   ],
   "source": [
    "data[1].values[0][1]"
   ]
  },
  {
   "cell_type": "code",
   "execution_count": null,
   "metadata": {},
   "outputs": [],
   "source": []
  },
  {
   "cell_type": "code",
   "execution_count": null,
   "metadata": {},
   "outputs": [],
   "source": []
  },
  {
   "cell_type": "code",
   "execution_count": null,
   "metadata": {},
   "outputs": [],
   "source": []
  },
  {
   "cell_type": "code",
   "execution_count": null,
   "metadata": {},
   "outputs": [],
   "source": []
  },
  {
   "cell_type": "code",
   "execution_count": null,
   "metadata": {},
   "outputs": [],
   "source": []
  },
  {
   "cell_type": "code",
   "execution_count": null,
   "metadata": {},
   "outputs": [],
   "source": []
  },
  {
   "cell_type": "code",
   "execution_count": null,
   "metadata": {},
   "outputs": [],
   "source": []
  }
 ]
}